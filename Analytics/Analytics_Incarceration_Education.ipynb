{
 "cells": [
  {
   "cell_type": "markdown",
   "metadata": {},
   "source": [
    "# To create a database with Education and Incarceration Data"
   ]
  },
  {
   "cell_type": "code",
   "execution_count": 1,
   "metadata": {},
   "outputs": [],
   "source": [
    "import numpy as np \n",
    "import pandas as pd \n",
    "\n",
    "# Python SQL toolkit and Object Relational Mapper\n",
    "import sqlalchemy\n",
    "from sqlalchemy.ext.automap import automap_base\n",
    "from sqlalchemy.orm import Session\n",
    "from sqlalchemy import create_engine, func\n"
   ]
  },
  {
   "cell_type": "markdown",
   "metadata": {},
   "source": [
    "## Read in the Incarceration Data"
   ]
  },
  {
   "cell_type": "code",
   "execution_count": null,
   "metadata": {},
   "outputs": [],
   "source": [
    "crime = pd.read_csv('../Data/incarceration_data/ucr_by_state.csv')\n",
    "prisoners_in_custody = pd.read_csv('../Data/incarceration_data/prison_custody_by_state.csv')\n",
    "incarceration = pd.read_csv('../Data/incarceration_data/crime_and_incarceration_by_state.csv')\n",
    "vera_incarceration_trends = pd.read_csv('../Data/incarceration_data/incarceration_trends.csv')\n",
    "\n"
   ]
  },
  {
   "cell_type": "markdown",
   "metadata": {},
   "source": [
    "#### Preview Incarceration CSVs\n"
   ]
  },
  {
   "cell_type": "code",
   "execution_count": null,
   "metadata": {},
   "outputs": [],
   "source": [
    "display('BJS: Crime Rates by Crime Type State and Year')\n",
    "display(crime.head(10))\n",
    "display(crime.columns)\n",
    "\n",
    "display('BJS: In Custody Counts by State and Year')\n",
    "display(prisoners_in_custody.head(10))\n",
    "display(prisoners_in_custody.columns)\n",
    "\n",
    "display('BJS: In Custody Counts, Crime Rates by Type, By State and Year')\n",
    "display(incarceration.head(10))\n",
    "display(incarceration.columns)\n",
    "\n",
    "display('Vera Justice: In Custody breakout by Demographic and Prison')\n",
    "display(vera_incarceration_trends.head(10))\n",
    "display(vera_incarceration_trends.columns)\n",
    "\n"
   ]
  },
  {
   "cell_type": "markdown",
   "metadata": {},
   "source": [
    "#### Drop Columns that will be excluded from report (exclude Federal)"
   ]
  },
  {
   "cell_type": "code",
   "execution_count": null,
   "metadata": {},
   "outputs": [],
   "source": [
    "incarceration_trim = incarceration.drop(columns=['includes_jails','crime_reporting_change','crimes_estimated',\n",
    "                                        'murder_manslaughter', 'rape_legacy', 'rape_revised',\n",
    "                                        'robbery', 'agg_assault', 'burglary', 'larceny', 'vehicle_theft'])\n",
    "\n",
    "incarceration_df = incarceration_trim.loc[incarceration_trim['jurisdiction'] != 'FEDERAL']\n",
    "incarceration_format = incarceration_df.rename(columns={'jurisdiction': 'state'})\n",
    "incarceration_format.columns = map(str.upper, incarceration_format.columns)\n",
    "incarceration_format.head()\n",
    "\n"
   ]
  },
  {
   "cell_type": "markdown",
   "metadata": {},
   "source": [
    "#### Estimate Missing NY Incarceration values to repair 2015 NaN"
   ]
  },
  {
   "cell_type": "code",
   "execution_count": null,
   "metadata": {},
   "outputs": [],
   "source": [
    "incarceration_ny_fix = incarceration_format[incarceration_format['STATE'] == 'NEW YORK']\n",
    "ny_14 = incarceration_ny_fix[(incarceration_ny_fix.STATE == 'NEW YORK') & (incarceration_ny_fix.YEAR == 2014)]\n",
    "ny_16 = incarceration_ny_fix[(incarceration_ny_fix.STATE == 'NEW YORK') & (incarceration_ny_fix.YEAR == 2016)]\n",
    "\n",
    "ny_15_state_pop = (ny_14.iloc[0]['STATE_POPULATION'].astype(int) \n",
    "                   + ny_16.iloc[0]['STATE_POPULATION'].astype(int))/2\n",
    "                        \n",
    "ny_15_vc_tot = (ny_14.iloc[0]['VIOLENT_CRIME_TOTAL'].astype(int) + \n",
    "                ny_16.iloc[0]['VIOLENT_CRIME_TOTAL'].astype(int))/2\n",
    "                      \n",
    "ny_15_pc_tot = (ny_14.iloc[0]['PROPERTY_CRIME_TOTAL'].astype(int) + ny_16.iloc[0]['PROPERTY_CRIME_TOTAL'].astype(int))/2\n",
    "print(ny_15_state_pop, ny_15_vc_tot, ny_15_pc_tot)\n",
    "\n"
   ]
  },
  {
   "cell_type": "markdown",
   "metadata": {},
   "source": [
    "#### Update NY Incarceration NaNs to estimated values  //  Check Repair"
   ]
  },
  {
   "cell_type": "code",
   "execution_count": null,
   "metadata": {},
   "outputs": [],
   "source": [
    "values = {'STATE_POPULATION': ny_15_state_pop, \n",
    "            'VIOLENT_CRIME_TOTAL': ny_15_vc_tot, \n",
    "            'PROPERTY_CRIME_TOTAL': ny_15_pc_tot\n",
    "            }\n",
    "incarceration_format.fillna(value=values, inplace=True)\n",
    "\n",
    "display(incarceration_format.head())\n",
    "\n",
    "ny_edit_check = round(incarceration_format[(incarceration_format.STATE == 'NEW YORK') & \n",
    "                                                  (incarceration_format.YEAR == 2015)],0)\n",
    "display(ny_edit_check)\n",
    "\n"
   ]
  },
  {
   "cell_type": "code",
   "execution_count": null,
   "metadata": {},
   "outputs": [],
   "source": [
    "incarceration_format['STATE'] = incarceration_format['STATE'].str.replace(' ', '_', regex=True)\n",
    "# incarceration_order = incarceration_format[['YEAR','STATE','PRISONER_COUNT', 'STATE_POPULATION', \n",
    "  #                                           'VIOLENT_CRIME_TOTAL', 'PROPERTY_CRIME_TOTAL']]\n",
    "incarceration_sort = incarceration_format.sort_values(['STATE','YEAR'])\n",
    "incarceration_index = incarceration_sort.reset_index()\n",
    "incarceration_format = incarceration_index.drop(columns=['index'])\n",
    "incarceration_format.head()\n",
    "\n"
   ]
  },
  {
   "cell_type": "markdown",
   "metadata": {},
   "source": [
    "#### Export cleaned Incarceration Data for Snapshot // Preview Dataframe"
   ]
  },
  {
   "cell_type": "code",
   "execution_count": null,
   "metadata": {
    "scrolled": true
   },
   "outputs": [],
   "source": [
    "incarceration_report = round(incarceration_format,0)\n",
    "incarceration_report.to_csv('../Reports/incarceration_report.csv')\n",
    "incarceration_report\n",
    "\n"
   ]
  },
  {
   "cell_type": "markdown",
   "metadata": {},
   "source": [
    "## Read in the Vera Justice Incarceration Data\n",
    "* Provides breakout by race"
   ]
  },
  {
   "cell_type": "code",
   "execution_count": null,
   "metadata": {},
   "outputs": [],
   "source": [
    "vera_incarceration_trends.columns\n",
    "\n"
   ]
  },
  {
   "cell_type": "code",
   "execution_count": null,
   "metadata": {},
   "outputs": [],
   "source": [
    "vera_incarceration_trends_trim = vera_incarceration_trends.drop(columns=[\n",
    "'yfips','fips', 'county_name', 'total_pop_15to64', 'female_pop_15to64', 'male_pop_15to64',\n",
    "'asian_pop_15to64', 'black_pop_15to64', 'latino_pop_15to64', 'native_pop_15to64', 'other_pop_15to64', \n",
    "'division', 'jail_from_state_prison', 'jail_from_other_state_prison', 'jail_from_state_jail', \n",
    "'total_jail_pretrial', 'female_jail_pretrial', 'male_jail_pretrial', 'female_jail_pop', 'male_jail_pop',\n",
    "'jail_from_other_state_jail', 'jail_from_fed','jail_from_ice', 'urbanicity', 'commuting_zone','female_prison_pop', 'male_prison_pop', \n",
    "'metro_area', 'land_area', 'total_jail_adm_dcrp', 'female_jail_adm_dcrp', 'male_jail_adm_dcrp', 'total_jail_pop_dcrp', 'female_jail_pop_dcrp', 'male_jail_pop_dcrp',\n",
    "'white_pop_15to64', 'total_prison_adm', 'female_prison_adm', 'male_prison_adm', 'asian_prison_adm', 'black_prison_adm',\n",
    "'latino_prison_adm', 'native_prison_adm', 'other_prison_adm', 'white_prison_adm', 'index_crime', 'violent_crime',\n",
    "'property_crime', 'murder_crime', 'rape_crime', 'robbery_crime', 'agr_assault_crime', 'burglary_crime', 'larceny_crime',\n",
    "'mv_theft_crime', 'arson_crime', 'num_facilites', 'num_employees', 'confined_pop', 'capacity', 'ucr_population', \n",
    "                                    ])\n",
    "\n",
    "vera_incarceration_trends_df = vera_incarceration_trends_trim.loc[vera_incarceration_trends_trim['year'] > 2000 ]\n",
    "vit_drop = vera_incarceration_trends_df.dropna()\n",
    "vit_group = vit_drop.groupby(by=['year','state']).sum()\n",
    "vera_incarceration = vit_group.reset_index()\n",
    "vera_incarceration\n"
   ]
  },
  {
   "cell_type": "code",
   "execution_count": null,
   "metadata": {},
   "outputs": [],
   "source": [
    "vera_incarceration['state'] = vera_incarceration['state'].map({'AL':'ALABAMA',\n",
    "'AK':'ALASKA', 'AZ':'ARIZONA','AR':'ARKANSAS','CA':'CALIFORNIA',\n",
    "'CO':'COLORADO','CT':'CONNECTICUT','DE':'DELAWARE','FL':'FLORIDA',\n",
    "'GA':'GEORGIA','HI':'HAWAII','ID':'IDAHO','IL':'ILLINOIS','IN':'INDIANA',\n",
    "'IA':'IOWA','KS':'KANSAS','KY':'KENTUCKY','LA':'LOUISIANA','ME':'MAINE',\n",
    "'MD':'MARYLAND','MA':'MASSACHUSETTS','MI':'MICHIGAN','MN':'MINNESOTA',\n",
    "'MS':'MISSISSIPPI','MO':'MISSOURI','MT':'MONTANA','NE':'NEBRASKA',\n",
    "'NV':'NEVADA','NH':'NEW HAMPSHIRE','NJ':'NEW JERSEY','NM':'NEW MEXICO',\n",
    "'NY':'NEW YORK','NC':'NORTH CAROLINA','ND':'NORTH DAKOTA','OH':'OHIO',\n",
    "'OK':'OKLAHOMA','OR':'OREGON','PA':'PENNSYLVANIA','RI':'RHODE ISLAND',\n",
    "'SC':'SOUTH CAROLINA','SD':'SOUTH DAKOTA','TN':'TENNESSEE','TX':'TEXAS',\n",
    "'UT':'UTAH','VT':'VERMONT','VA':'VIRGINIA','WA':'WASHINGTON',\n",
    "'WV':'WEST VIRGINIA','WI':'WISCONSIN','WY':'WYOMING',})\n",
    "vera_incarceration.head()\n"
   ]
  },
  {
   "cell_type": "code",
   "execution_count": null,
   "metadata": {
    "scrolled": true
   },
   "outputs": [],
   "source": [
    "vera_incarceration['state'] = vera_incarceration['state'].str.replace(' ', '_', regex=True)\n",
    "vera_incarceration.columns = map(str.upper, vera_incarceration.columns)\n",
    "vera_incarceration = round(vera_incarceration, 0)\n",
    "vera_incarceration.columns"
   ]
  },
  {
   "cell_type": "code",
   "execution_count": null,
   "metadata": {},
   "outputs": [],
   "source": [
    "vera_incarceration['ASIAN_JAIL_POP'] = ((vera_incarceration['ASIAN_JAIL_POP'] / \n",
    "                                            vera_incarceration['TOTAL_JAIL_POP']) * 100)\n",
    "\n",
    "vera_incarceration['BLACK_JAIL_POP'] = ((vera_incarceration['BLACK_JAIL_POP'] / \n",
    "                                            vera_incarceration['TOTAL_JAIL_POP']) * 100)\n",
    "\n",
    "vera_incarceration['LATINO_JAIL_POP'] = ((vera_incarceration['LATINO_JAIL_POP'] / \n",
    "                                            vera_incarceration['TOTAL_JAIL_POP']) * 100)\n",
    "\n",
    "vera_incarceration['NATIVE_JAIL_POP'] = ((vera_incarceration['NATIVE_JAIL_POP'] / \n",
    "                                            vera_incarceration['TOTAL_JAIL_POP']) * 100)\n",
    "\n",
    "vera_incarceration['WHITE_JAIL_POP'] = ((vera_incarceration['WHITE_JAIL_POP'] / \n",
    "                                            vera_incarceration['TOTAL_JAIL_POP']) * 100)\n",
    "\n",
    "vera_incarceration['ASIAN_PRISON_POP'] = ((vera_incarceration['ASIAN_PRISON_POP'] / \n",
    "                                            vera_incarceration['TOTAL_PRISON_POP']) * 100)\n",
    "\n",
    "vera_incarceration['BLACK_PRISON_POP'] = ((vera_incarceration['BLACK_PRISON_POP'] / \n",
    "                                            vera_incarceration['TOTAL_PRISON_POP']) * 100)\n",
    "\n",
    "vera_incarceration['LATINO_PRISON_POP'] = ((vera_incarceration['LATINO_PRISON_POP'] / \n",
    "                                            vera_incarceration['TOTAL_PRISON_POP']) * 100)\n",
    "\n",
    "vera_incarceration['NATIVE_PRISON_POP'] = ((vera_incarceration['NATIVE_PRISON_POP'] / \n",
    "                                            vera_incarceration['TOTAL_PRISON_POP']) * 100)\n",
    "\n",
    "vera_incarceration['OTHER_PRISON_POP'] = ((vera_incarceration['OTHER_PRISON_POP'] / \n",
    "                                            vera_incarceration['TOTAL_PRISON_POP']) * 100)\n",
    "\n",
    "vera_incarceration['WHITE_PRISON_POP'] = ((vera_incarceration['WHITE_PRISON_POP'] / \n",
    "                                            vera_incarceration['TOTAL_PRISON_POP']) * 100)\n"
   ]
  },
  {
   "cell_type": "code",
   "execution_count": null,
   "metadata": {},
   "outputs": [],
   "source": [
    "vera_incarceration_final = vera_incarceration.drop(columns=['TOTAL_POP','TOTAL_JAIL_POP','TOTAL_PRISON_POP'])\n",
    "vir_sort = vera_incarceration_final.sort_values(['STATE', 'YEAR'])\n",
    "vir_index = vir_sort.reset_index()\n",
    "vera_incarceration_reset = vir_index.drop(columns=['index'])\n",
    "vera_incarceration_report = vera_incarceration_reset[[\n",
    "       'STATE','YEAR', 'TOTAL_JAIL_ADM', \n",
    "       'ASIAN_JAIL_POP', 'BLACK_JAIL_POP', 'LATINO_JAIL_POP',\n",
    "       'NATIVE_JAIL_POP', 'WHITE_JAIL_POP',\n",
    "       'ASIAN_PRISON_POP', 'BLACK_PRISON_POP', 'LATINO_PRISON_POP',\n",
    "       'NATIVE_PRISON_POP', 'OTHER_PRISON_POP', 'WHITE_PRISON_POP']]\n",
    "vera_incarceration_report.head()\n"
   ]
  },
  {
   "cell_type": "code",
   "execution_count": null,
   "metadata": {
    "scrolled": true
   },
   "outputs": [],
   "source": [
    "vera_incarceration_report.to_csv('../Reports/vera_incarceration_report.csv')\n",
    "vera_incarceration_report.head()\n"
   ]
  },
  {
   "cell_type": "code",
   "execution_count": null,
   "metadata": {},
   "outputs": [],
   "source": [
    "STATE = vera_incarceration_report['STATE'].nunique()\n",
    "display(f'We have summary breakouts of Race for {STATE} states')\n",
    "display(f'But we dont have coverage for every year, so we are just gonna keep this to ourselves')\n",
    "display(vera_incarceration_report['STATE'].value_counts())\n",
    "display(f'Still worth it for other projects')\n"
   ]
  },
  {
   "cell_type": "markdown",
   "metadata": {},
   "source": [
    "## Read in the Education Data"
   ]
  },
  {
   "cell_type": "code",
   "execution_count": null,
   "metadata": {},
   "outputs": [],
   "source": [
    "education_file = \"../Data/education_data/states_all.csv\"\n",
    "education_df = pd.read_csv(education_file)\n",
    "display(education_df.head())\n",
    "display(education_df.columns)\n"
   ]
  },
  {
   "cell_type": "markdown",
   "metadata": {},
   "source": [
    "#### Notes on what some of the columns mean: \n",
    "\n",
    "* <b>Academic Achievement -  National Assessment of Educational Progress (NAEP)</b><br>\n",
    "A breakdown of student performance as assessed by the corresponding exams (math and reading, grades 4 and 8).<br><br>\n",
    "\n",
    "* <b>AVG_MATH_4_SCORE:</b> The state's average score for fourth graders taking the NAEP math exam.\n",
    "* <b>AVG_MATH_8_SCORE:</b> The state's average score for eight graders taking the NAEP math exam.\n",
    "* <b>AVG_READING_4_SCORE:</b> The state's average score for fourth graders taking the NAEP reading exam.\n",
    "* <b>AVG_READING_8_SCORE:</b> The state's average score for eighth graders taking the NAEP reading exam."
   ]
  },
  {
   "cell_type": "code",
   "execution_count": null,
   "metadata": {},
   "outputs": [],
   "source": [
    "# Create a filtered dataframe from specific columns\n",
    "\n",
    "education_cols = ['STATE', 'YEAR', 'TOTAL_EXPENDITURE', 'INSTRUCTION_EXPENDITURE', 'GRADES_4_G', 'GRADES_8_G', 'GRADES_ALL_G', 'AVG_MATH_4_SCORE', 'AVG_MATH_8_SCORE', 'AVG_READING_4_SCORE', 'AVG_READING_8_SCORE']\n",
    "education_transformed = education_df[education_cols].copy()\n",
    "\n",
    "education_transformed.head()"
   ]
  },
  {
   "cell_type": "code",
   "execution_count": null,
   "metadata": {},
   "outputs": [],
   "source": []
  },
  {
   "cell_type": "code",
   "execution_count": null,
   "metadata": {},
   "outputs": [],
   "source": [
    "# Rename the column headers\n",
    "education_transformed = education_transformed.rename(columns={\"GRADES_4_G\": \"4TH_ENROLLED\",\n",
    "                                                         \"GRADES_8_G\": \"8TH_ENROLLED\",\n",
    "                                                         \"GRADES_ALL_G\": \"TOTAL_ENROLLMENT\",\n",
    "                                                         \"AVG_MATH_4_SCORE\": \"4_AVG_MATH_SCORE\",\n",
    "                                                         \"AVG_MATH_8_SCORE\": \"8_AVG_MATH_SCORE\",\n",
    "                                                         \"AVG_READING_4_SCORE\": \"4_AVG_RDG_SCORE\",\n",
    "                                                         \"AVG_READING_8_SCORE\": \"8_AVG_RDG_SCORE\"})\n",
    "education_transformed.head()"
   ]
  },
  {
   "cell_type": "code",
   "execution_count": null,
   "metadata": {},
   "outputs": [],
   "source": [
    "# Filter by year - greater than the year 2000\n",
    "\n",
    "education_year = education_transformed[education_transformed['YEAR'] > 2000]\n",
    "education_year.head()\n"
   ]
  },
  {
   "cell_type": "code",
   "execution_count": null,
   "metadata": {
    "scrolled": true
   },
   "outputs": [],
   "source": [
    "# Filter by year - less than the year 2017\n",
    "\n",
    "education_years = education_year[education_year['YEAR'] < 2017]\n",
    "education_years.head()\n",
    "\n"
   ]
  },
  {
   "cell_type": "markdown",
   "metadata": {},
   "source": [
    "## A Quick view on NaNs and Missing Data\n",
    "* Not all states evaluate their students on the NAEP rubric\n",
    "* Finance and Enrollment data not available for all years for all Territories (States mostly seem fine)"
   ]
  },
  {
   "cell_type": "code",
   "execution_count": null,
   "metadata": {},
   "outputs": [],
   "source": [
    "display(education_years.count())\n",
    "display(education_years['STATE'].value_counts().value_counts())\n"
   ]
  },
  {
   "cell_type": "code",
   "execution_count": null,
   "metadata": {
    "scrolled": false
   },
   "outputs": [],
   "source": [
    "# Drop rows that are not in the US\n",
    "#nonUS = ['GUAM', 'PUERTO_RICO', 'AMERICAN_SAMOA','VIRGIN_ISLANDS',\n",
    " #       'NORTHERN_MARIANAS','DOD_DOMESTIC','DOD_OVERSEAS',\n",
    "  #      'BUREAU_OF_INDIAN_AFFAIRS','NORTHERN_MARIANA_ISLANDS','BI',\n",
    "   #     'DD','DOD_-_DOMESTIC','BIE','DOD_-_OVERSEAS','BUREAU_OF_INDIAN_EDUCATION',\n",
    "    #    'DEPARTMENT_OF_DEFENSE','DEPARTMENT_OF_DEFENSE_EDUCATION_ACTIVITY',\n",
    "     #   'BUREAU_OF_INDIAN_EDUCATIO','U.S._VIRGIN_ISLANDS','DOD_(OVERSEAS_AND_DOMESTIC_COMBINED)'\n",
    "      #  ]\n",
    "\n",
    "updated_ed_df = education_years.loc[(education_years['STATE'] != 'GUAM') &\n",
    "                                    (education_years['STATE'] != 'PUERTO_RICO') &\n",
    "                                    (education_years['STATE'] != 'AMERICAN_SAMOA') &\n",
    "                                    (education_years['STATE'] != 'VIRGIN_ISLANDS') &\n",
    "                                    (education_years['STATE'] != 'NORTHERN_MARIANAS') &\n",
    "                                    (education_years['STATE'] != 'DOD_DOMESTIC') &\n",
    "                                    (education_years['STATE'] != 'DOD_OVERSEAS') &\n",
    "                                    (education_years['STATE'] != 'BUREAU_OF_INDIAN_AFFAIRS') &\n",
    "                                    (education_years['STATE'] != 'NORTHERN_MARIANA_ISLANDS') &\n",
    "                                    (education_years['STATE'] != 'BI') &\n",
    "                                    (education_years['STATE'] != 'DD') &\n",
    "                                    (education_years['STATE'] != 'DOD_-_DOMESTIC') &\n",
    "                                    (education_years['STATE'] != 'BIE') &\n",
    "                                    (education_years['STATE'] != 'DOD_-_OVERSEAS') &\n",
    "                                    (education_years['STATE'] != 'BUREAU_OF_INDIAN_EDUCATION') &\n",
    "                                    (education_years['STATE'] != 'DEPARTMENT_OF_DEFENSE') &\n",
    "                                    (education_years['STATE'] != 'DEPARTMENT_OF_DEFENSE_EDUCATION_ACTIVITY') &\n",
    "                                    (education_years['STATE'] != 'BUREAU_OF_INDIAN_EDUCATIO') &\n",
    "                                    (education_years['STATE'] != 'U.S._VIRGIN_ISLANDS') &\n",
    "                                    (education_years['STATE'] != 'DOD_(OVERSEAS_AND_DOMESTIC_COMBINED)') &\n",
    "                                    (education_years['STATE'] != 'DISTRICT_OF_COLUMBIA')]\n",
    "updated_ed_df.head()\n"
   ]
  },
  {
   "cell_type": "markdown",
   "metadata": {},
   "source": [
    "#### Highlighting the issue with Virginia\n",
    "* Three rows with different info"
   ]
  },
  {
   "cell_type": "code",
   "execution_count": null,
   "metadata": {},
   "outputs": [],
   "source": [
    "display(updated_ed_df['STATE'].value_counts().head()) # Virginia seems to have extra and is the only one\n",
    "VA_ed = updated_ed_df.loc[(education_years['STATE'] == 'VIRGINIA')]\n",
    "display(VA_ed['YEAR'].value_counts().head()) # 2008 seems to have Three observations\n",
    "VA_data_error = VA_ed.loc[(VA_ed['YEAR'] == 2008)]\n",
    "display(VA_data_error) # Unique Values in Enrollment Columns [4TH_ENROLLED, 8TH_ENROLLED, TOTAL_ENROLLMENT]"
   ]
  },
  {
   "cell_type": "code",
   "execution_count": null,
   "metadata": {},
   "outputs": [],
   "source": [
    "ed_group_df = updated_ed_df.groupby(['STATE','YEAR']).mean()\n",
    "ed_group_df.reset_index(inplace=True)\n",
    "# ed_group_df['STATE'].value_counts() # Check to make sure we have the right number of obs\n",
    "ed_group_df"
   ]
  },
  {
   "cell_type": "code",
   "execution_count": null,
   "metadata": {},
   "outputs": [],
   "source": [
    "# Export to Reports\n",
    "\n",
    "education_report = ed_group_df\n",
    "\n",
    "education_report.to_csv('../Reports/education_report.csv')\n",
    "\n",
    "education_report\n",
    "\n"
   ]
  },
  {
   "cell_type": "markdown",
   "metadata": {},
   "source": [
    "# Joining the Cleaned Datasets"
   ]
  },
  {
   "cell_type": "markdown",
   "metadata": {},
   "source": [
    "### Quick preview to remember what we've done"
   ]
  },
  {
   "cell_type": "code",
   "execution_count": null,
   "metadata": {},
   "outputs": [],
   "source": [
    "display('Cleaned Incarceration Info')\n",
    "display(incarceration_report.head())\n",
    "display('Cleaned Vera Info [we will make an SQL, but not join]')\n",
    "display(vera_incarceration_report.head())\n",
    "display('Cleaned Education Info')\n",
    "display(education_report.head())\n",
    "\n"
   ]
  },
  {
   "cell_type": "code",
   "execution_count": null,
   "metadata": {},
   "outputs": [],
   "source": [
    "ed_prison_df = education_report.merge(incarceration_report, on=['STATE', 'YEAR'])\n",
    "education_v_incarceration = ed_prison_df.merge(vera_incarceration_report, on=['STATE', 'YEAR'])\n",
    "education_v_incarceration.to_csv('../Reports/education_v_incarceration.csv')\n",
    "display(education_v_incarceration.head(25))\n",
    "display(education_v_incarceration.dtypes)"
   ]
  },
  {
   "cell_type": "code",
   "execution_count": null,
   "metadata": {
    "scrolled": true
   },
   "outputs": [],
   "source": [
    "education_v_incarceration_format = education_v_incarceration\n",
    "education_v_incarceration_format['TOTAL_EXPENDITURE'] = education_v_incarceration_format['TOTAL_EXPENDITURE']\\\n",
    "                                                        .map(\"${:,.2f}\".format)\n",
    "education_v_incarceration_format['INSTRUCTION_EXPENDITURE'] = education_v_incarceration_format['INSTRUCTION_EXPENDITURE']\\\n",
    "                                                        .map(\"${:,.2f}\".format)\n",
    "education_v_incarceration_format['4TH_ENROLLED'] = education_v_incarceration_format['4TH_ENROLLED']\\\n",
    "                                                        .map(\"{:,.0f}\".format)\n",
    "education_v_incarceration_format['8TH_ENROLLED'] = education_v_incarceration_format['8TH_ENROLLED']\\\n",
    "                                                        .map(\"{:,.0f}\".format)\n",
    "education_v_incarceration_format['TOTAL_ENROLLMENT'] = education_v_incarceration_format['TOTAL_ENROLLMENT']\\\n",
    "                                                        .map(\"{:,.0f}\".format)\n",
    "education_v_incarceration_format['4_AVG_MATH_SCORE'] = education_v_incarceration_format['4_AVG_MATH_SCORE']\\\n",
    "                                                        .map(\"{:,.2f}\".format)\n",
    "education_v_incarceration_format['8_AVG_MATH_SCORE'] = education_v_incarceration_format['8_AVG_MATH_SCORE']\\\n",
    "                                                        .map(\"{:,.2f}\".format)\n",
    "education_v_incarceration_format['4_AVG_RDG_SCORE'] = education_v_incarceration_format['4_AVG_RDG_SCORE']\\\n",
    "                                                        .map(\"{:,.2f}\".format)\n",
    "education_v_incarceration_format['8_AVG_RDG_SCORE'] = education_v_incarceration_format['8_AVG_RDG_SCORE']\\\n",
    "                                                        .map(\"{:,.2f}\".format)\n",
    "education_v_incarceration_format['PRISONER_COUNT'] = education_v_incarceration_format['PRISONER_COUNT']\\\n",
    "                                                        .map(\"{:,.0f}\".format)\n",
    "education_v_incarceration_format['STATE_POPULATION'] = education_v_incarceration_format['STATE_POPULATION']\\\n",
    "                                                        .map(\"{:,.0f}\".format)\n",
    "education_v_incarceration_format['VIOLENT_CRIME_TOTAL'] = education_v_incarceration_format['VIOLENT_CRIME_TOTAL']\\\n",
    "                                                        .map(\"{:,.0f}\".format)\n",
    "education_v_incarceration_format['PROPERTY_CRIME_TOTAL'] = education_v_incarceration_format['PROPERTY_CRIME_TOTAL']\\\n",
    "                                                        .map(\"{:,.0f}\".format)\n",
    "education_v_incarceration_format['ASIAN_JAIL_POP'] = education_v_incarceration_format['ASIAN_JAIL_POP'].map(\"{:,.2f}%\".format)\n",
    "education_v_incarceration_format['BLACK_JAIL_POP'] = education_v_incarceration_format['BLACK_JAIL_POP'].map(\"{:,.2f}%\".format)\n",
    "education_v_incarceration_format['LATINO_JAIL_POP'] = education_v_incarceration_format['LATINO_JAIL_POP'].map(\"{:,.2f}%\".format)\n",
    "education_v_incarceration_format['NATIVE_JAIL_POP'] = education_v_incarceration_format['NATIVE_JAIL_POP'].map(\"{:,.2f}%\".format)\n",
    "education_v_incarceration_format['WHITE_JAIL_POP'] = education_v_incarceration_format['WHITE_JAIL_POP'].map(\"{:,.2f}%\".format)\n",
    "education_v_incarceration_format['ASIAN_PRISON_POP'] = education_v_incarceration_format['ASIAN_PRISON_POP'].map(\"{:,.2f}%\".format)\n",
    "education_v_incarceration_format['BLACK_PRISON_POP'] = education_v_incarceration_format['BLACK_PRISON_POP'].map(\"{:,.2f}%\".format)\n",
    "education_v_incarceration_format['LATINO_PRISON_POP'] = education_v_incarceration_format['LATINO_PRISON_POP'].map(\"{:,.2f}%\".format)\n",
    "education_v_incarceration_format['NATIVE_PRISON_POP'] = education_v_incarceration_format['NATIVE_PRISON_POP'].map(\"{:,.2f}%\".format)\n",
    "education_v_incarceration_format['OTHER_PRISON_POP'] = education_v_incarceration_format['OTHER_PRISON_POP'].map(\"{:,.2f}%\".format)\n",
    "education_v_incarceration_format['WHITE_PRISON_POP'] = education_v_incarceration_format['WHITE_PRISON_POP'].map(\"{:,.2f}%\".format)\n",
    "education_v_incarceration_format.to_csv('../Outputs/education_v_incarceration_format.csv')\n",
    "education_v_incarceration_format.head()\n",
    "\n"
   ]
  },
  {
   "cell_type": "code",
   "execution_count": null,
   "metadata": {},
   "outputs": [],
   "source": []
  }
 ],
 "metadata": {
  "kernelspec": {
   "display_name": "Python 3",
   "language": "python",
   "name": "python3"
  },
  "language_info": {
   "codemirror_mode": {
    "name": "ipython",
    "version": 3
   },
   "file_extension": ".py",
   "mimetype": "text/x-python",
   "name": "python",
   "nbconvert_exporter": "python",
   "pygments_lexer": "ipython3",
   "version": "3.6.7"
  }
 },
 "nbformat": 4,
 "nbformat_minor": 2
}
